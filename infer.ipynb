{
 "cells": [
  {
   "cell_type": "code",
   "execution_count": null,
   "metadata": {
    "collapsed": true
   },
   "outputs": [],
   "source": [
    "import numpy as np\n",
    "import paddle\n",
    "\n",
    "from paddle.nn.functional import interpolate\n",
    "\n",
    "from resnet_dilated import ResNet101\n",
    "from paddle import to_variable, fluid\n",
    "from paddle.nn import Conv2d, BatchNorm, Dropout, Layer, Sequential, Conv1d,ReLU\n"
   ]
  },
  {
   "cell_type": "code",
   "execution_count": null,
   "outputs": [],
   "source": [
    "class GCNModule(Layer):\n",
    "    def __init__(self, num_channels, num_nodes):\n",
    "        super(GCNModule, self).__init__()\n",
    "        self.conv1 = Conv1d(num_nodes, num_nodes, kernel_size=1)\n",
    "        self.relu = ReLU()\n",
    "        self.conv2 = Conv1d(num_channels, num_channels, kernel_size=1)\n",
    "\n",
    "    def forward(self, inputs):\n",
    "        # inputs.shape(B,C,N）\n",
    "        print(inputs.shape)\n",
    "        x=fluid.layers.transpose(inputs, perm=(0, 2, 1))\n",
    "        print(x.shape)\n",
    "        x = self.conv1(x)\n",
    "        print(x.shape)\n",
    "        x = fluid.layers.transpose(inputs, perm=(0,2,1))\n",
    "        print(x.shape)\n",
    "        x = x - inputs\n",
    "        print(x.shape)\n",
    "        x = self.conv2(x)\n",
    "        print(x.shape)\n",
    "        x = self.relu(x)\n",
    "        print(x.shape)\n",
    "\n",
    "        return x\n"
   ],
   "metadata": {
    "collapsed": false,
    "pycharm": {
     "name": "#%%\n"
    }
   }
  },
  {
   "cell_type": "code",
   "execution_count": null,
   "outputs": [],
   "source": [
    "x_data = np.random.rand(2, 256, 4096).astype(np.float32)\n",
    "x = to_variable(x_data)\n",
    "\n"
   ],
   "metadata": {
    "collapsed": false,
    "pycharm": {
     "name": "#%%\n"
    }
   }
  }
 ],
 "metadata": {
  "kernelspec": {
   "display_name": "Python 3",
   "language": "python",
   "name": "python3"
  },
  "language_info": {
   "codemirror_mode": {
    "name": "ipython",
    "version": 2
   },
   "file_extension": ".py",
   "mimetype": "text/x-python",
   "name": "python",
   "nbconvert_exporter": "python",
   "pygments_lexer": "ipython2",
   "version": "2.7.6"
  }
 },
 "nbformat": 4,
 "nbformat_minor": 0
}